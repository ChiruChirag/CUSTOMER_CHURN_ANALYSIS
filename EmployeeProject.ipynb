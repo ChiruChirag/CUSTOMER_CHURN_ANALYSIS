{
  "nbformat": 4,
  "nbformat_minor": 0,
  "metadata": {
    "colab": {
      "name": "EmployeeProject.ipynb",
      "provenance": [],
      "authorship_tag": "ABX9TyO5oelNXa2FofkN9ipcQYvW",
      "include_colab_link": true
    },
    "kernelspec": {
      "name": "python3",
      "display_name": "Python 3"
    },
    "language_info": {
      "name": "python"
    }
  },
  "cells": [
    {
      "cell_type": "markdown",
      "metadata": {
        "id": "view-in-github",
        "colab_type": "text"
      },
      "source": [
        "<a href=\"https://colab.research.google.com/github/ChiruChirag/CUSTOMER_CHURN_ANALYSIS/blob/main/EmployeeProject.ipynb\" target=\"_parent\"><img src=\"https://colab.research.google.com/assets/colab-badge.svg\" alt=\"Open In Colab\"/></a>"
      ]
    },
    {
      "cell_type": "markdown",
      "source": [
        "**CHURN ANALYLIS OF EMPLOYEES OF A PARTICULAR COMPANY**"
      ],
      "metadata": {
        "id": "tVkyAZ2a-rKZ"
      }
    },
    {
      "cell_type": "code",
      "execution_count": 3,
      "metadata": {
        "colab": {
          "base_uri": "https://localhost:8080/",
          "height": 69
        },
        "id": "5C8KQSeQ-Vi4",
        "outputId": "edcee91b-20a6-4fee-9e80-9f93f8d3b15f"
      },
      "outputs": [
        {
          "output_type": "stream",
          "name": "stdout",
          "text": [
            "Train set: (160, 5) (160,)\n",
            "Test set: (40, 5) (40,)\n"
          ]
        },
        {
          "output_type": "display_data",
          "data": {
            "text/plain": [
              "0.775"
            ]
          },
          "metadata": {}
        }
      ],
      "source": [
        "import pandas as pd\n",
        "import pylab as pl\n",
        "import numpy as np\n",
        "import scipy.optimize as opt\n",
        "from sklearn import preprocessing\n",
        "%matplotlib inline \n",
        "import matplotlib.pyplot as plt\n",
        "df=pd.read_csv(\"https://cf-courses-data.s3.us.cloud-object-storage.appdomain.cloud/IBMDeveloperSkillsNetwork-ML0101EN-SkillsNetwork/labs/Module%203/data/ChurnData.csv\")\n",
        "#display(df)   OPTIONAL U CAN DISPLAY IT TO SEE THE DATA SET\n",
        "dff = df[[\"ed\",\"loglong\",\"equip\",\"longmon\",\"callcard\"]]\n",
        "dff.head()\n",
        "X = np.asanyarray(dff[[\"ed\",\"loglong\",\"equip\",\"longmon\",\"callcard\"]])\n",
        "X[0:5]\n",
        "y = np.asanyarray(df['churn'])\n",
        "y [0:5]\n",
        "from sklearn import preprocessing\n",
        "X = preprocessing.StandardScaler().fit(X).transform(X)\n",
        "X[0:5]\n",
        "from sklearn.model_selection import train_test_split#TEST AND TRAINING SET CREATION\n",
        "X_train, X_test, y_train, y_test = train_test_split( X, y, test_size=0.2, random_state=4)\n",
        "print ('Train set:', X_train.shape,  y_train.shape)\n",
        "print ('Test set:', X_test.shape,  y_test.shape)\n",
        "from sklearn.linear_model import LogisticRegression\n",
        "from sklearn.metrics import confusion_matrix\n",
        "LR = LogisticRegression(C=0.01, solver='liblinear').fit(X_train,y_train)\n",
        "LR\n",
        "yhat = LR.predict(X_test)\n",
        "yhat\n",
        "yhat_prob = LR.predict_proba(X_test)\n",
        "yhat_prob\n",
        "array=confusion_matrix(y_test, yhat)\n",
        "a=(array[0,0]+array[1,1])/((array[0,0]+array[0,1]+array[1,0]+array[1,1]))#THIS IS TO FIND THE ACCURACY\n",
        "display(a);\n"
      ]
    },
    {
      "cell_type": "markdown",
      "source": [
        "I HAVE GOT AN ACURACY OF 0.775 WHICH IS BARICALLY 77.5% USING THIS PARTICULAR SET OF DATA\n",
        "WE CAN TRY VARIOUS DATA'S AND TRY TO INCREASE THE PROBILITY OF OUR PREDICTION"
      ],
      "metadata": {
        "id": "cnMHWzqh_I5y"
      }
    }
  ]
}